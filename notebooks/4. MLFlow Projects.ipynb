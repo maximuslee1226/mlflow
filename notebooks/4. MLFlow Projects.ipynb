{
 "cells": [
  {
   "cell_type": "markdown",
   "metadata": {},
   "source": [
    "## MLFlow Projects for or\n",
    "> - Tested on macOS Monterey version 12.1 Macbook Pro, 2.2 GHz Quad-Core Intel Core i7, Memory 16GB DDR3"
   ]
  },
  {
   "cell_type": "markdown",
   "metadata": {},
   "source": [
    "# MLFlow Projects\n",
    "\n",
    "The MLFlow Projects allows users to easily package their applications for reuse or sharing purposes\n",
    "This includes command line components and APIs for orchestrating workflows\n",
    "\n",
    "## MLproject Notebook\n",
    "MLFlow project notebook that executes MLFlow project\n",
    "\n",
    "\n",
    "## MLFlow Project File\n",
    "\n",
    "In the MLproject file, you can specify project name, entry point, environment, and workflow chains\n",
    "\n",
    "\n",
    "```sh\n",
    "name: MLFlow_Project_example\n",
    "\n",
    "conda_env: conda.yaml\n",
    "\n",
    "entry_points:\n",
    "  main:\n",
    "    parameters:\n",
    "      param1: {type: int, default: 10}\n",
    "      param2: {type: int, default: 20}\n",
    "      param3: {type: int, default: 100000}\n",
    "    command: 'python3 main.py'\n",
    "```\n",
    "\n",
    "## MLproject Environment Settings\n",
    "\n",
    "There are three environment where you can run the MLFlow project:\n",
    "\n",
    "- Conda environment\n",
    "- Native system environment\n",
    "- Docker environment\n"
   ]
  },
  {
   "cell_type": "code",
   "execution_count": 1,
   "metadata": {},
   "outputs": [],
   "source": [
    "import os\n",
    "import sys\n",
    "import glob\n",
    "import shutil\n",
    "\n",
    "if not sys.warnoptions:\n",
    "    import warnings\n",
    "    warnings.simplefilter(\"ignore\")"
   ]
  },
  {
   "cell_type": "code",
   "execution_count": 3,
   "metadata": {},
   "outputs": [],
   "source": [
    "import numpy  as np\n",
    "import pandas as pd\n",
    "import matplotlib.pyplot as plt\n",
    "\n",
    "import mlflow as mf"
   ]
  },
  {
   "cell_type": "code",
   "execution_count": 14,
   "metadata": {},
   "outputs": [
    {
     "name": "stdout",
     "output_type": "stream",
     "text": [
      "/Users/brandonl/projects/mlflow/fastcamp/notebooks\n",
      "2022/01/16 15:38:27 INFO mlflow.projects: === Created directory /var/folders/5f/1ytgjvf10l5g252jrqpj4jq40000gn/T/tmp1qe3jm4o for downloading remote URIs passed to arguments of type 'path' ===\n",
      "2022/01/16 15:38:27 INFO mlflow.projects: === Running command 'python3 main.py' in run with ID '5d4fdd3fc72b49e09ff99153ae195339' === \n",
      "PyCon - MLFlow Projects\n",
      "Parameters 10, 20, 100000 \n",
      "2022/01/16 15:38:30 INFO mlflow.projects: === Run (ID '5d4fdd3fc72b49e09ff99153ae195339') succeeded ===\n"
     ]
    }
   ],
   "source": [
    "!pwd\n",
    "!cd 4.\\ MLFlow_Projects_DIR/ && mlflow run --no-conda ."
   ]
  }
 ],
 "metadata": {
  "kernelspec": {
   "display_name": "Python 3 (ipykernel)",
   "language": "python",
   "name": "python3"
  },
  "language_info": {
   "codemirror_mode": {
    "name": "ipython",
    "version": 3
   },
   "file_extension": ".py",
   "mimetype": "text/x-python",
   "name": "python",
   "nbconvert_exporter": "python",
   "pygments_lexer": "ipython3",
   "version": "3.7.11"
  },
  "nteract": {
   "version": "0.15.0"
  }
 },
 "nbformat": 4,
 "nbformat_minor": 4
}
