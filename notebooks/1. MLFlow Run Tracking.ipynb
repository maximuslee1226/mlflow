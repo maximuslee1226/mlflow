{
 "cells": [
  {
   "cell_type": "markdown",
   "metadata": {},
   "source": [
    "## MLFlow Tracking with Python\n",
    "> - Tested on macOS Monterey version 12.1 Macbook Pro, 2.2 GHz Quad-Core Intel Core i7, Memory 16GB DDR3"
   ]
  },
  {
   "cell_type": "markdown",
   "metadata": {},
   "source": [
    "#### 1.0 MLFlow Tracking\n",
    "\n",
    "> 1. Offers API & UI for logging parameters, code versions, metrics, and artifacts when running your code and visualizing results. You can log result to local file system or databases.  Multiple developers can use the tracking server to compare multiple experiments results with their peers \n",
    "\n",
    "> 2. Record experiments for logging parameters, code versions, metrics, and artifacts\n",
    "\n",
    "> 3. Visualize experiment result via MLflow UI \n",
    "\n",
    "> 4. Multi-user sharing environment\n",
    "\n",
    "##### Main Components \n",
    "> - ***Artifacts***:   Result artifacts in scikit-learn, parquet, and png format\n",
    "> - ***Parameters***:  key-value pair \n",
    "> - ***Metrics***:     numeric key-value pair and live metric update during the run and visualize via mlflow UI"
   ]
  },
  {
   "cell_type": "code",
   "execution_count": 11,
   "metadata": {},
   "outputs": [],
   "source": [
    "import os\n",
    "import sys\n",
    "import shutil\n",
    "\n",
    "if not sys.warnoptions:\n",
    "    import warnings\n",
    "    warnings.simplefilter(\"ignore\")"
   ]
  },
  {
   "cell_type": "code",
   "execution_count": 12,
   "metadata": {},
   "outputs": [],
   "source": [
    "import numpy  as np\n",
    "import pandas as pd\n",
    "import matplotlib.pyplot as plt\n",
    "\n",
    "import mlflow as mf"
   ]
  },
  {
   "cell_type": "markdown",
   "metadata": {},
   "source": [
    "#### Tracking server URI"
   ]
  },
  {
   "cell_type": "code",
   "execution_count": 13,
   "metadata": {},
   "outputs": [
    {
     "name": "stdout",
     "output_type": "stream",
     "text": [
      "zsh:1: no matches found: mlruns/.trash/*\r\n"
     ]
    }
   ],
   "source": [
    "!rm -rf mlruns/.trash/*"
   ]
  },
  {
   "cell_type": "code",
   "execution_count": 14,
   "metadata": {},
   "outputs": [],
   "source": [
    "mf.set_tracking_uri('http://127.0.0.1:5000')"
   ]
  },
  {
   "cell_type": "code",
   "execution_count": 15,
   "metadata": {
    "scrolled": true
   },
   "outputs": [],
   "source": [
    "experiment_id = mf.set_experiment(\"test\")"
   ]
  },
  {
   "cell_type": "code",
   "execution_count": 16,
   "metadata": {},
   "outputs": [],
   "source": [
    "mf.start_run()\n",
    "\n",
    "mf.log_param('flower boy', 5.7)\n",
    "mf.log_param('macho girl', 5.8)\n",
    "\n",
    "for i in range(10):\n",
    "    mf.log_metric('accuracy', i)\n",
    "\n",
    "mf.end_run()"
   ]
  },
  {
   "cell_type": "code",
   "execution_count": 17,
   "metadata": {},
   "outputs": [],
   "source": [
    "def fastcampus(fg_color: str, bg_color: str, text: str, folder_path: str):\n",
    "    x  = np.linspace(-10, 10, num=8000)\n",
    "    y1 = np.sqrt(1-(abs(x)-1)**2)\n",
    "    y2 = -3*np.sqrt(1-(abs(x)/2)**0.5)\n",
    "\n",
    "    plt.axis('off')\n",
    "    plt.fill_between(x, y1, color=bg_color)\n",
    "    plt.fill_between(x, y2, color=bg_color)\n",
    "    plt.xlim([-3.0, 3.0])\n",
    "    plt.text(0, -0.3, text, fontsize=20, fontweight='bold', color=fg_color, horizontalalignment='center', verticalalignment='center')\n",
    "    plt.savefig('{0}/{3}.png'.format(folder_path, fg_color, bg_color, text))\n",
    "\n",
    "    return np.random.randint(100)"
   ]
  },
  {
   "cell_type": "code",
   "execution_count": 18,
   "metadata": {},
   "outputs": [],
   "source": [
    "mf.set_tracking_uri('http://127.0.0.1:5000')"
   ]
  },
  {
   "cell_type": "code",
   "execution_count": 19,
   "metadata": {
    "scrolled": false
   },
   "outputs": [],
   "source": [
    "experiment_id = mf.set_experiment(\"ILoveFastCampus\")"
   ]
  },
  {
   "cell_type": "code",
   "execution_count": 20,
   "metadata": {},
   "outputs": [
    {
     "data": {
      "image/png": "[encoded data removed]",
      "text/plain": [
       "<Figure size 432x288 with 1 Axes>"
      ]
     },
     "metadata": {
      "needs_background": "light"
     },
     "output_type": "display_data"
    }
   ],
   "source": [
    "with mf.start_run() as run:\n",
    "\n",
    "    fg_color = 'white'\n",
    "    bg_color = 'red'\n",
    "    text     = 'Fastcampusrocks!'\n",
    "    folder   = '../pics/'\n",
    "    \n",
    "    mf.log_param(\"foreground color\", fg_color)\n",
    "    mf.log_param(\"background color\", bg_color)\n",
    "    mf.log_param(\"text\", text)\n",
    "    mf.set_tag('red heart', 'fast campus')\n",
    "\n",
    "    os.makedirs(folder, exist_ok=True)\n",
    "    rating = fastcampus(fg_color, bg_color, text, folder)\n",
    "    with open(\"{0}fastcampus_log.txt\".format(folder), \"w\") as f:f.write(\"I love fastcampus\")\n",
    "        \n",
    "    mf.log_metric('rating', rating)\n",
    "    mf.log_artifacts(folder)\n",
    "    shutil.rmtree(folder)"
   ]
  }
 ],
 "metadata": {
  "kernelspec": {
   "display_name": "Python 3 (ipykernel)",
   "language": "python",
   "name": "python3"
  },
  "language_info": {
   "codemirror_mode": {
    "name": "ipython",
    "version": 3
   },
   "file_extension": ".py",
   "mimetype": "text/x-python",
   "name": "python",
   "nbconvert_exporter": "python",
   "pygments_lexer": "ipython3",
   "version": "3.7.11"
  },
  "nteract": {
   "version": "0.15.0"
  }
 },
 "nbformat": 4,
 "nbformat_minor": 4
}
