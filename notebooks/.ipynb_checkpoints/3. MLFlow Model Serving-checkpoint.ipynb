{
 "cells": [
  {
   "cell_type": "markdown",
   "metadata": {},
   "source": [
    "## MLFlow Tracking with Python\n",
    "> - Tested on macOS Monterey version 12.1 Macbook Pro, 2.2 GHz Quad-Core Intel Core i7, Memory 16GB DDR3"
   ]
  },
  {
   "cell_type": "markdown",
   "metadata": {},
   "source": [
    "## MLFlow Models\n",
    "\n",
    "### Introduction\n",
    "\n",
    "In this notebook, we will look at the MLFlow Models component and deploy a model in various ways\n",
    "\n",
    "### MLFlow Models\n",
    "\n",
    "MLFlow Models are:\n",
    "\n",
    "- Cross library format to package machine learning models\n",
    "- Model converter from multiple input types to multiple output types\n",
    "- Deployment to Rest endpoint or Apache Spark, AWS Sagemaker, Azure ML\n",
    "\n",
    "### MLFLow Model Types\n",
    "\n",
    "ML Flow models supports the following model types:\n",
    "\n",
    "- Custom models\n",
    "- Python Function (python_function)\n",
    "- R Function (crate)\n",
    "- H2O (h2o)\n",
    "- Keras (keras)\n",
    "- MLeap (mleap)\n",
    "- PyTorch (pytorch)\n",
    "- Scikit-learn (sklearn)\n",
    "- Spark MLlib (spark)\n",
    "- TensorFlow (tensorflow)\n",
    "- ONNX (onnx)\n",
    "\n",
    "### MLFlow model format\n",
    "\n",
    "Each model run, remember the tracking id's, contains an **artifacts/model** directory. Should be something like this ...\n",
    "\n",
    "```sh\n",
    "│   └── artifact_store\n",
    "│       └── 12\n",
    "│           ├── 000db1149e0e49039ed3f44080dbab74\n",
    "│           │   └── artifacts\n",
    "│           │       └── model\n",
    "│           │           ├── MLmodel\n",
    "│           │           ├── conda.yaml\n",
    "│           │           └── model.pkl\n",
    "```\n",
    "\n",
    "That directory contains 3 files:\n",
    "\n",
    "> - conda.yaml file\n",
    "> - MLmodel file\n",
    "> - model.pkl file\n",
    "\n",
    "### MLmodel File\n",
    "\n",
    "The model contains all the metadata of the model in a human readable format. It also records the run id where this model was created.\n",
    "\n",
    "```yaml\n",
    "artifact_path: model\n",
    "flavors:\n",
    "  python_function:\n",
    "    data: model.pkl\n",
    "    env: conda.yaml\n",
    "    loader_module: mlflow.sklearn\n",
    "    python_version: 3.7.4\n",
    "  sklearn:\n",
    "    pickled_model: model.pkl\n",
    "    serialization_format: cloudpickle\n",
    "    sklearn_version: 0.21.3\n",
    "run_id: 000db1149e0e49039ed3f44080dbab74\n",
    "utc_time_created: '2021-12-26 1:03:48.337733'\n",
    "\n",
    "```\n",
    "\n",
    "The above example saves model in python and sklearn format\n",
    "\n",
    "### model.pkl file\n",
    "\n",
    "The model.pkl is a serialized python model format.\n",
    "\n",
    "\n",
    "### Command Line API\n",
    "\n",
    "The command line API deploys MLFlow model to several deployable targets\n",
    "MLFlow Model deployment:\n",
    "\n",
    "```sh\n",
    "mlflow models build-docker  \t# Builds Docker images\n",
    "mlflow models predict       \t# Generate predictions in json format using saved MLflow\n",
    "mlflow models serve         \t# Serve MLFlow models via webservice\n",
    "```"
   ]
  },
  {
   "cell_type": "markdown",
   "metadata": {},
   "source": [
    "### Wine Quality Model Training\n",
    "\n",
    "Train ML model on wine quality"
   ]
  },
  {
   "cell_type": "code",
   "execution_count": 1,
   "metadata": {},
   "outputs": [],
   "source": [
    "import os\n",
    "import sys\n",
    "import glob\n",
    "import shutil\n",
    "\n",
    "if not sys.warnoptions:\n",
    "    import warnings\n",
    "    warnings.simplefilter(\"ignore\")"
   ]
  },
  {
   "cell_type": "code",
   "execution_count": 2,
   "metadata": {},
   "outputs": [],
   "source": [
    "import numpy as np\n",
    "import pandas as pd\n",
    "\n",
    "from sklearn.model_selection import train_test_split\n",
    "from sklearn.linear_model import ElasticNet\n",
    "from sklearn.metrics import mean_squared_error, mean_absolute_error, r2_score\n",
    "\n",
    "import mlflow              as mf\n",
    "import mlflow.sklearn"
   ]
  },
  {
   "cell_type": "code",
   "execution_count": 3,
   "metadata": {},
   "outputs": [],
   "source": [
    "mf.set_tracking_uri(\"http://127.0.0.1:5000\")"
   ]
  },
  {
   "cell_type": "code",
   "execution_count": 4,
   "metadata": {},
   "outputs": [],
   "source": [
    "experiment_id = mf.set_experiment(\"Wine Quality Models\")"
   ]
  },
  {
   "cell_type": "code",
   "execution_count": 5,
   "metadata": {},
   "outputs": [
    {
     "name": "stdout",
     "output_type": "stream",
     "text": [
      "Wine Quality data\n",
      "\n",
      "\n",
      "      fixed acidity  volatile acidity  citric acid  residual sugar  chlorides  \\\n",
      "0               7.4             0.700         0.00             1.9      0.076   \n",
      "1               7.8             0.880         0.00             2.6      0.098   \n",
      "2               7.8             0.760         0.04             2.3      0.092   \n",
      "3              11.2             0.280         0.56             1.9      0.075   \n",
      "4               7.4             0.700         0.00             1.9      0.076   \n",
      "...             ...               ...          ...             ...        ...   \n",
      "1594            6.2             0.600         0.08             2.0      0.090   \n",
      "1595            5.9             0.550         0.10             2.2      0.062   \n",
      "1596            6.3             0.510         0.13             2.3      0.076   \n",
      "1597            5.9             0.645         0.12             2.0      0.075   \n",
      "1598            6.0             0.310         0.47             3.6      0.067   \n",
      "\n",
      "      free sulfur dioxide  total sulfur dioxide  density    pH  sulphates  \\\n",
      "0                    11.0                  34.0  0.99780  3.51       0.56   \n",
      "1                    25.0                  67.0  0.99680  3.20       0.68   \n",
      "2                    15.0                  54.0  0.99700  3.26       0.65   \n",
      "3                    17.0                  60.0  0.99800  3.16       0.58   \n",
      "4                    11.0                  34.0  0.99780  3.51       0.56   \n",
      "...                   ...                   ...      ...   ...        ...   \n",
      "1594                 32.0                  44.0  0.99490  3.45       0.58   \n",
      "1595                 39.0                  51.0  0.99512  3.52       0.76   \n",
      "1596                 29.0                  40.0  0.99574  3.42       0.75   \n",
      "1597                 32.0                  44.0  0.99547  3.57       0.71   \n",
      "1598                 18.0                  42.0  0.99549  3.39       0.66   \n",
      "\n",
      "      alcohol  quality  \n",
      "0         9.4        5  \n",
      "1         9.8        5  \n",
      "2         9.8        5  \n",
      "3         9.8        6  \n",
      "4         9.4        5  \n",
      "...       ...      ...  \n",
      "1594     10.5        5  \n",
      "1595     11.2        6  \n",
      "1596     11.0        6  \n",
      "1597     10.2        5  \n",
      "1598     11.0        6  \n",
      "\n",
      "[1599 rows x 12 columns]\n"
     ]
    }
   ],
   "source": [
    "np.random.seed(40)\n",
    "\n",
    "csv_url = 'http://archive.ics.uci.edu/ml/machine-learning-databases/wine-quality/winequality-red.csv'\n",
    "try:\n",
    "    data = pd.read_csv(csv_url, sep=';')\n",
    "    print (\"Wine Quality data\\n\\n\")\n",
    "    print (data)\n",
    "except Exception as E:\n",
    "    logger.exception(\n",
    "        \"ERROR: Download training & test data failed %s\", E)"
   ]
  },
  {
   "cell_type": "code",
   "execution_count": 6,
   "metadata": {},
   "outputs": [],
   "source": [
    "def eval_metrics(actual, pred):\n",
    "    rmse = np.sqrt(mean_squared_error(actual, pred))\n",
    "    mae = mean_absolute_error(actual, pred)\n",
    "    r2 = r2_score(actual, pred)\n",
    "    return rmse, mae, r2"
   ]
  },
  {
   "cell_type": "code",
   "execution_count": 7,
   "metadata": {},
   "outputs": [
    {
     "name": "stdout",
     "output_type": "stream",
     "text": [
      "\n",
      "Elasticnet model (alpha=0.500000, l1_ratio=0.500000):\n",
      "  RMSE: 0.7931640229276851\n",
      "  MAE: 0.6271946374319587\n",
      "  R2: 0.10862644997792614\n"
     ]
    }
   ],
   "source": [
    "# Split the data into training and test sets. (0.75, 0.25) split.\n",
    "train, test = train_test_split(data)\n",
    "\n",
    "# The predicted column is \"quality\" which is a scalar from [3, 9]\n",
    "train_x = train.drop([\"quality\"], axis=1)\n",
    "test_x  = test.drop([\"quality\"], axis=1)\n",
    "train_y = train[[\"quality\"]]\n",
    "test_y  = test[[\"quality\"]]\n",
    "\n",
    "alpha    =  0.5\n",
    "l1_ratio =  0.5\n",
    "\n",
    "with mlflow.start_run():\n",
    "    \n",
    "    lr = ElasticNet(alpha=alpha, l1_ratio=l1_ratio, random_state=42)\n",
    "    lr.fit(train_x, train_y)\n",
    "\n",
    "    predicted_qualities = lr.predict(test_x)\n",
    "\n",
    "    (rmse, mae, r2) = eval_metrics(test_y, predicted_qualities)\n",
    "\n",
    "    print(\"ElasticNet model (alpha=%f, l1_ratio=%f):\"%(alpha, l1_ratio))\n",
    "    print(\"RMSE: %s\" % rmse)\n",
    "    print(\"MAE: %s\" % mae)\n",
    "    print(\"R2: %s\" % r2)\n",
    "\n",
    "    mlflow.log_param(\"alpha\", alpha)\n",
    "    mlflow.log_param(\"l1_ratio\", l1_ratio)\n",
    "    mlflow.log_metric(\"rmse\", rmse)\n",
    "    mlflow.log_metric(\"r2\", r2)\n",
    "    mlflow.log_metric(\"mae\", mae)\n",
    "\n",
    "    mlflow.sklearn.log_model(lr, \"model\")"
   ]
  },
  {
   "cell_type": "markdown",
   "metadata": {},
   "source": [
    "## Deploy MLFlow model in local mode\n",
    "\n",
    "Let's deploy a mlflow model to a local REST endpoint and feed the real data for inference using POSTMAN"
   ]
  },
  {
   "cell_type": "code",
   "execution_count": null,
   "metadata": {
    "scrolled": false
   },
   "outputs": [
    {
     "name": "stdout",
     "output_type": "stream",
     "text": [
      "2022/01/16 14:45:16 INFO mlflow.models.cli: Selected backend for flavor 'python_function'\n",
      "2022/01/16 14:45:16 INFO mlflow.pyfunc.backend: === Running command 'gunicorn --timeout=60 -b 127.0.0.1:1234 -w 1 ${GUNICORN_CMD_ARGS} -- mlflow.pyfunc.scoring_server.wsgi:app'\n",
      "[2022-01-16 14:45:17 -0800] [71076] [INFO] Starting gunicorn 20.1.0\n",
      "[2022-01-16 14:45:17 -0800] [71076] [INFO] Listening at: http://127.0.0.1:1234 (71076)\n",
      "[2022-01-16 14:45:17 -0800] [71076] [INFO] Using worker: sync\n",
      "[2022-01-16 14:45:17 -0800] [71079] [INFO] Booting worker with pid: 71079\n",
      "[2022-01-16 14:46:44 -0800] [71076] [CRITICAL] WORKER TIMEOUT (pid:71079)\n",
      "[2022-01-16 14:46:44 -0800] [71079] [INFO] Worker exiting (pid: 71079)\n",
      "[2022-01-16 14:46:44 -0800] [71087] [INFO] Booting worker with pid: 71087\n"
     ]
    }
   ],
   "source": [
    "!mlflow models serve --no-conda -m \"/Users/brandonl/projects/mlflow/fastcamp/artifact_store/14/fd845c569ffe4f90ab4baa533cbc9520/artifacts/model\" -p 1234"
   ]
  },
  {
   "cell_type": "markdown",
   "metadata": {},
   "source": [
    "### Curl command\n",
    "curl http://127.0.0.1:1234/invocations -H 'Content-Type: application/json' -d '{\"columns\": [\"fixed acidity\", \"volatile acidity\", \"citric acid\", \"residual sugar\", \"chlorides\", \"free sulfur dioxide\", \"total sulfur dioxide\", \"density\", \"pH\", \"sulphates\", \"alcohol\"], \"data\": [[8.0, 0.164, 0.03, 2.9, 0.162, 12.0, 54.0, 0.97660, 4.36, 0.32, 8.9]]}'"
   ]
  }
 ],
 "metadata": {
  "kernelspec": {
   "display_name": "Python 3 (ipykernel)",
   "language": "python",
   "name": "python3"
  },
  "language_info": {
   "codemirror_mode": {
    "name": "ipython",
    "version": 3
   },
   "file_extension": ".py",
   "mimetype": "text/x-python",
   "name": "python",
   "nbconvert_exporter": "python",
   "pygments_lexer": "ipython3",
   "version": "3.7.11"
  },
  "nteract": {
   "version": "0.15.0"
  }
 },
 "nbformat": 4,
 "nbformat_minor": 4
}
